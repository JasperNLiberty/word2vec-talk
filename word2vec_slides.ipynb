{
 "cells": [
  {
   "cell_type": "markdown",
   "metadata": {
    "slideshow": {
     "slide_type": "slide"
    }
   },
   "source": [
    "---\n",
    "word2vec\n",
    "----\n",
    "\n",
    "<img src=\"images/book.png\" style=\"width: 400px;\"/>\n",
    "\n",
    "Slides: [bit.ly/word2vec_talk](http://bit.ly/word2vec_talk)"
   ]
  },
  {
   "cell_type": "markdown",
   "metadata": {
    "slideshow": {
     "slide_type": "slide"
    }
   },
   "source": [
    "----\n",
    "Agenda\n",
    "----\n",
    "\n",
    "0) Welcome & Overview  \n",
    "1) word2vec introduction  \n",
    "2) word2vec application  \n",
    "3) word2vec activity  \n",
    "4) everything2vec  \n",
    "\n",
    "Slides: [bit.ly/word2vec_talk](http://bit.ly/word2vec_talk)"
   ]
  },
  {
   "cell_type": "markdown",
   "metadata": {
    "slideshow": {
     "slide_type": "slide"
    }
   },
   "source": [
    "<img src=\"images/me.png\" style=\"width: 400px;\"/>\n",
    "\n",
    "hi, brian.  \n",
    "[@BrianSpiering](https://twitter.com/brianspiering)\n",
    "\n",
    "Data Science Faculty @[GalvanizeU](http://www.galvanizeu.com/)\n",
    "\n",
    "Slides: [bit.ly/word2vec_talk](http://bit.ly/word2vec_talk)  \n",
    "(these materials are adapted from my Natural Language Processing (NLP) course)"
   ]
  },
  {
   "cell_type": "markdown",
   "metadata": {
    "slideshow": {
     "slide_type": "slide"
    }
   },
   "source": [
    "---\n",
    "Pop Quiz\n",
    "---\n",
    "\n",
    "Do computers prefer numbers or words?\n",
    "\n"
   ]
  },
  {
   "cell_type": "markdown",
   "metadata": {
    "slideshow": {
     "slide_type": "fragment"
    }
   },
   "source": [
    "__Numbers__\n",
    "<br>\n",
    "<br>\n",
    "word2vec is currently the best algorithm to map words (strings) to numbers (vectors of floats).\n",
    "</details>"
   ]
  },
  {
   "cell_type": "markdown",
   "metadata": {
    "slideshow": {
     "slide_type": "slide"
    }
   },
   "source": [
    "----\n",
    "Why is word2vec so popular?\n",
    "----\n",
    "\n",
    "<img src=\"images/word_cloud.png\" style=\"width: 400px;\"/>\n",
    "\n",
    "1. Creates a word \"cloud\", organized by semantic meaning.\n",
    "\n",
    "2. Turns text into a numerical form that Deep Learning Nets and machine learning algorithms can in-turn use."
   ]
  },
  {
   "cell_type": "markdown",
   "metadata": {
    "slideshow": {
     "slide_type": "slide"
    }
   },
   "source": [
    "----\n",
    "How does word2vec work?\n",
    "----\n",
    "\n",
    "<img src=\"images/firth.png\" style=\"width: 400px;\"/>\n",
    "\n",
    ">“You shall know a word\n",
    ">by the company it keeps”\n",
    "\n",
    "> \\- J. R. Firth 1957"
   ]
  },
  {
   "cell_type": "markdown",
   "metadata": {
    "collapsed": true,
    "slideshow": {
     "slide_type": "slide"
    }
   },
   "source": []
  },
  {
   "cell_type": "markdown",
   "metadata": {
    "collapsed": true,
    "slideshow": {
     "slide_type": "slide"
    }
   },
   "source": []
  },
  {
   "cell_type": "markdown",
   "metadata": {
    "collapsed": true,
    "slideshow": {
     "slide_type": "slide"
    }
   },
   "source": [
    "Where do I go from here?\n",
    "-----\n",
    "\n",
    "- Download these slides: [bit.ly/word2vec_talk](http://bit.ly/word2vec_talk) \n",
    "- Check out my [word2vec workshop](https://github.com/brianspiering/word2vec-workshop)\n",
    "- Watch Ali Ghodsi's lecture on word2vec [part 1](https://www.youtube.com/watch?v=TsEGsdVJjuA) and [part 2](https://www.youtube.com/watch?v=nuirUEmbaJU)\n",
    "- Work through [Tensorflow's word2vec tutorial](https://www.tensorflow.org/versions/r0.11/tutorials/word2vec/index.html)"
   ]
  },
  {
   "cell_type": "markdown",
   "metadata": {
    "collapsed": true,
    "slideshow": {
     "slide_type": "slide"
    }
   },
   "source": [
    "<br>\n",
    "<br> \n",
    "<br>\n"
   ]
  }
 ],
 "metadata": {
  "celltoolbar": "Slideshow",
  "kernelspec": {
   "display_name": "Python 3",
   "language": "python",
   "name": "python3"
  },
  "language_info": {
   "codemirror_mode": {
    "name": "ipython",
    "version": 3
   },
   "file_extension": ".py",
   "mimetype": "text/x-python",
   "name": "python",
   "nbconvert_exporter": "python",
   "pygments_lexer": "ipython3",
   "version": "3.5.2"
  }
 },
 "nbformat": 4,
 "nbformat_minor": 1
}
